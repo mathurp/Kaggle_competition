{
 "cells": [
  {
   "cell_type": "code",
   "execution_count": 1,
   "metadata": {
    "_cell_guid": "b1076dfc-b9ad-4769-8c92-a6c4dae69d19",
    "_uuid": "8f2839f25d086af736a60e9eeb907d3b93b6e0e5"
   },
   "outputs": [
    {
     "name": "stderr",
     "output_type": "stream",
     "text": [
      "Using TensorFlow backend.\n"
     ]
    }
   ],
   "source": [
    "import numpy as np # linear algebra\n",
    "import pandas as pd # data processing, CSV file I/O (e.g. pd.read_csv)\n",
    "\n",
    "import os, shutil\n",
    "import keras\n",
    "from keras import layers, Sequential\n",
    "from keras.preprocessing.image import ImageDataGenerator\n",
    "from keras.callbacks import ModelCheckpoint,EarlyStopping\n",
    "from keras.layers import Conv2D,MaxPooling2D, Dropout, Dense, BatchNormalization, Flatten\n",
    "from keras.callbacks import ReduceLROnPlateau\n",
    "from keras import optimizers\n",
    "from keras.optimizers import Nadam\n",
    "\n",
    "import tensorflow as tf\n",
    "tf.set_random_seed(0)\n",
    "\n",
    "import matplotlib.pyplot as plt \n",
    "from glob import glob\n",
    "%matplotlib inline\n",
    "\n",
    "np.random.seed(101)\n",
    "\n",
    "# Any results you write to the current directory are saved as output."
   ]
  },
  {
   "cell_type": "code",
   "execution_count": 2,
   "metadata": {
    "_cell_guid": "79c7e3d0-c299-4dcb-8224-4455121ee9b0",
    "_uuid": "d629ff2d2480ee46fbb7e2d37f6b5fab8052498a"
   },
   "outputs": [
    {
     "data": {
      "text/plain": [
       "['train', 'test', 'train_labels.csv', 'sample_submission.csv']"
      ]
     },
     "execution_count": 2,
     "metadata": {},
     "output_type": "execute_result"
    }
   ],
   "source": [
    "os.listdir('../input/')"
   ]
  },
  {
   "cell_type": "code",
   "execution_count": 3,
   "metadata": {
    "_uuid": "a8cab0345cb85013595230db09970369e6249a8b"
   },
   "outputs": [
    {
     "data": {
      "text/html": [
       "<div>\n",
       "<style scoped>\n",
       "    .dataframe tbody tr th:only-of-type {\n",
       "        vertical-align: middle;\n",
       "    }\n",
       "\n",
       "    .dataframe tbody tr th {\n",
       "        vertical-align: top;\n",
       "    }\n",
       "\n",
       "    .dataframe thead th {\n",
       "        text-align: right;\n",
       "    }\n",
       "</style>\n",
       "<table border=\"1\" class=\"dataframe\">\n",
       "  <thead>\n",
       "    <tr style=\"text-align: right;\">\n",
       "      <th></th>\n",
       "      <th>path</th>\n",
       "    </tr>\n",
       "  </thead>\n",
       "  <tbody>\n",
       "    <tr>\n",
       "      <th>0</th>\n",
       "      <td>../input/train/292faf631c5ff5741bb46b04e4eacce...</td>\n",
       "    </tr>\n",
       "    <tr>\n",
       "      <th>1</th>\n",
       "      <td>../input/train/5a61b93a34e2a37869a4e83e964169a...</td>\n",
       "    </tr>\n",
       "    <tr>\n",
       "      <th>2</th>\n",
       "      <td>../input/train/139e7bd057aafacf7cce59490104ccf...</td>\n",
       "    </tr>\n",
       "    <tr>\n",
       "      <th>3</th>\n",
       "      <td>../input/train/5adf6b5ce28b15f585b8d53fc8d3716...</td>\n",
       "    </tr>\n",
       "    <tr>\n",
       "      <th>4</th>\n",
       "      <td>../input/train/abf7a7eb3e7bc917e766670eebd7f44...</td>\n",
       "    </tr>\n",
       "  </tbody>\n",
       "</table>\n",
       "</div>"
      ],
      "text/plain": [
       "                                                path\n",
       "0  ../input/train/292faf631c5ff5741bb46b04e4eacce...\n",
       "1  ../input/train/5a61b93a34e2a37869a4e83e964169a...\n",
       "2  ../input/train/139e7bd057aafacf7cce59490104ccf...\n",
       "3  ../input/train/5adf6b5ce28b15f585b8d53fc8d3716...\n",
       "4  ../input/train/abf7a7eb3e7bc917e766670eebd7f44..."
      ]
     },
     "execution_count": 3,
     "metadata": {},
     "output_type": "execute_result"
    }
   ],
   "source": [
    "train_dir = '../input/train/'\n",
    "data = pd.DataFrame({'path': glob(os.path.join(train_dir,'*.tif'))                    \n",
    "                    })\n",
    "data.head()\n"
   ]
  },
  {
   "cell_type": "code",
   "execution_count": 4,
   "metadata": {
    "_uuid": "ac1e4b460e927ddaecb4d67b50618c8f3f5b3f02"
   },
   "outputs": [
    {
     "data": {
      "text/html": [
       "<div>\n",
       "<style scoped>\n",
       "    .dataframe tbody tr th:only-of-type {\n",
       "        vertical-align: middle;\n",
       "    }\n",
       "\n",
       "    .dataframe tbody tr th {\n",
       "        vertical-align: top;\n",
       "    }\n",
       "\n",
       "    .dataframe thead th {\n",
       "        text-align: right;\n",
       "    }\n",
       "</style>\n",
       "<table border=\"1\" class=\"dataframe\">\n",
       "  <thead>\n",
       "    <tr style=\"text-align: right;\">\n",
       "      <th></th>\n",
       "      <th>path</th>\n",
       "      <th>id</th>\n",
       "    </tr>\n",
       "  </thead>\n",
       "  <tbody>\n",
       "    <tr>\n",
       "      <th>0</th>\n",
       "      <td>../input/train/292faf631c5ff5741bb46b04e4eacce...</td>\n",
       "      <td>292faf631c5ff5741bb46b04e4eacceb272d8c8b</td>\n",
       "    </tr>\n",
       "    <tr>\n",
       "      <th>1</th>\n",
       "      <td>../input/train/5a61b93a34e2a37869a4e83e964169a...</td>\n",
       "      <td>5a61b93a34e2a37869a4e83e964169ad3d1e3753</td>\n",
       "    </tr>\n",
       "    <tr>\n",
       "      <th>2</th>\n",
       "      <td>../input/train/139e7bd057aafacf7cce59490104ccf...</td>\n",
       "      <td>139e7bd057aafacf7cce59490104ccf281a3fa98</td>\n",
       "    </tr>\n",
       "    <tr>\n",
       "      <th>3</th>\n",
       "      <td>../input/train/5adf6b5ce28b15f585b8d53fc8d3716...</td>\n",
       "      <td>5adf6b5ce28b15f585b8d53fc8d3716182026ab4</td>\n",
       "    </tr>\n",
       "    <tr>\n",
       "      <th>4</th>\n",
       "      <td>../input/train/abf7a7eb3e7bc917e766670eebd7f44...</td>\n",
       "      <td>abf7a7eb3e7bc917e766670eebd7f440c500ee4d</td>\n",
       "    </tr>\n",
       "  </tbody>\n",
       "</table>\n",
       "</div>"
      ],
      "text/plain": [
       "                                                path                                        id\n",
       "0  ../input/train/292faf631c5ff5741bb46b04e4eacce...  292faf631c5ff5741bb46b04e4eacceb272d8c8b\n",
       "1  ../input/train/5a61b93a34e2a37869a4e83e964169a...  5a61b93a34e2a37869a4e83e964169ad3d1e3753\n",
       "2  ../input/train/139e7bd057aafacf7cce59490104ccf...  139e7bd057aafacf7cce59490104ccf281a3fa98\n",
       "3  ../input/train/5adf6b5ce28b15f585b8d53fc8d3716...  5adf6b5ce28b15f585b8d53fc8d3716182026ab4\n",
       "4  ../input/train/abf7a7eb3e7bc917e766670eebd7f44...  abf7a7eb3e7bc917e766670eebd7f440c500ee4d"
      ]
     },
     "execution_count": 4,
     "metadata": {},
     "output_type": "execute_result"
    }
   ],
   "source": [
    "data['id'] = data.path.apply(lambda x: str(x).split('/')[3].split('.')[0])\n",
    "data.head()"
   ]
  },
  {
   "cell_type": "code",
   "execution_count": 5,
   "metadata": {
    "_uuid": "301b86b3d428e146459ea655d434c5a8b9fb3590"
   },
   "outputs": [
    {
     "data": {
      "text/html": [
       "<div>\n",
       "<style scoped>\n",
       "    .dataframe tbody tr th:only-of-type {\n",
       "        vertical-align: middle;\n",
       "    }\n",
       "\n",
       "    .dataframe tbody tr th {\n",
       "        vertical-align: top;\n",
       "    }\n",
       "\n",
       "    .dataframe thead th {\n",
       "        text-align: right;\n",
       "    }\n",
       "</style>\n",
       "<table border=\"1\" class=\"dataframe\">\n",
       "  <thead>\n",
       "    <tr style=\"text-align: right;\">\n",
       "      <th></th>\n",
       "      <th>path</th>\n",
       "      <th>id</th>\n",
       "      <th>label</th>\n",
       "    </tr>\n",
       "  </thead>\n",
       "  <tbody>\n",
       "    <tr>\n",
       "      <th>0</th>\n",
       "      <td>../input/train/292faf631c5ff5741bb46b04e4eacce...</td>\n",
       "      <td>292faf631c5ff5741bb46b04e4eacceb272d8c8b</td>\n",
       "      <td>0</td>\n",
       "    </tr>\n",
       "    <tr>\n",
       "      <th>1</th>\n",
       "      <td>../input/train/5a61b93a34e2a37869a4e83e964169a...</td>\n",
       "      <td>5a61b93a34e2a37869a4e83e964169ad3d1e3753</td>\n",
       "      <td>0</td>\n",
       "    </tr>\n",
       "    <tr>\n",
       "      <th>2</th>\n",
       "      <td>../input/train/139e7bd057aafacf7cce59490104ccf...</td>\n",
       "      <td>139e7bd057aafacf7cce59490104ccf281a3fa98</td>\n",
       "      <td>0</td>\n",
       "    </tr>\n",
       "    <tr>\n",
       "      <th>3</th>\n",
       "      <td>../input/train/5adf6b5ce28b15f585b8d53fc8d3716...</td>\n",
       "      <td>5adf6b5ce28b15f585b8d53fc8d3716182026ab4</td>\n",
       "      <td>0</td>\n",
       "    </tr>\n",
       "    <tr>\n",
       "      <th>4</th>\n",
       "      <td>../input/train/abf7a7eb3e7bc917e766670eebd7f44...</td>\n",
       "      <td>abf7a7eb3e7bc917e766670eebd7f440c500ee4d</td>\n",
       "      <td>0</td>\n",
       "    </tr>\n",
       "  </tbody>\n",
       "</table>\n",
       "</div>"
      ],
      "text/plain": [
       "                                                path  ...  label\n",
       "0  ../input/train/292faf631c5ff5741bb46b04e4eacce...  ...      0\n",
       "1  ../input/train/5a61b93a34e2a37869a4e83e964169a...  ...      0\n",
       "2  ../input/train/139e7bd057aafacf7cce59490104ccf...  ...      0\n",
       "3  ../input/train/5adf6b5ce28b15f585b8d53fc8d3716...  ...      0\n",
       "4  ../input/train/abf7a7eb3e7bc917e766670eebd7f44...  ...      0\n",
       "\n",
       "[5 rows x 3 columns]"
      ]
     },
     "execution_count": 5,
     "metadata": {},
     "output_type": "execute_result"
    }
   ],
   "source": [
    "df = pd.read_csv('../input/train_labels.csv')\n",
    "data = data.merge(df, on='id')\n",
    "data.head()"
   ]
  },
  {
   "cell_type": "code",
   "execution_count": 6,
   "metadata": {
    "_uuid": "996292332082e9c6233873dcaac29f229fff1be6"
   },
   "outputs": [],
   "source": [
    "training_dir= '../training_dir'\n",
    "validation_dir= '../validation_dir'\n",
    "os.mkdir(training_dir)\n",
    "os.mkdir(validation_dir)"
   ]
  },
  {
   "cell_type": "code",
   "execution_count": 7,
   "metadata": {
    "_uuid": "6286e9217034e97938c506d43784f8bf574ce02f"
   },
   "outputs": [
    {
     "data": {
      "text/html": [
       "<div>\n",
       "<style scoped>\n",
       "    .dataframe tbody tr th:only-of-type {\n",
       "        vertical-align: middle;\n",
       "    }\n",
       "\n",
       "    .dataframe tbody tr th {\n",
       "        vertical-align: top;\n",
       "    }\n",
       "\n",
       "    .dataframe thead th {\n",
       "        text-align: right;\n",
       "    }\n",
       "</style>\n",
       "<table border=\"1\" class=\"dataframe\">\n",
       "  <thead>\n",
       "    <tr style=\"text-align: right;\">\n",
       "      <th></th>\n",
       "      <th>path</th>\n",
       "      <th>id</th>\n",
       "      <th>label</th>\n",
       "    </tr>\n",
       "  </thead>\n",
       "  <tbody>\n",
       "    <tr>\n",
       "      <th>5</th>\n",
       "      <td>../input/train/156f6a50526bdfdfae44a804c6fabce...</td>\n",
       "      <td>156f6a50526bdfdfae44a804c6fabce6562482e0</td>\n",
       "      <td>1</td>\n",
       "    </tr>\n",
       "    <tr>\n",
       "      <th>7</th>\n",
       "      <td>../input/train/b2b1c081319ac56e011bfe368fb3033...</td>\n",
       "      <td>b2b1c081319ac56e011bfe368fb30336fa1ddce1</td>\n",
       "      <td>1</td>\n",
       "    </tr>\n",
       "    <tr>\n",
       "      <th>8</th>\n",
       "      <td>../input/train/f2f7753410bd17f63f1fb6570e2614d...</td>\n",
       "      <td>f2f7753410bd17f63f1fb6570e2614d6092c2754</td>\n",
       "      <td>1</td>\n",
       "    </tr>\n",
       "    <tr>\n",
       "      <th>13</th>\n",
       "      <td>../input/train/21133e327d174c4f92d1ff9eaa905de...</td>\n",
       "      <td>21133e327d174c4f92d1ff9eaa905de4ef298a85</td>\n",
       "      <td>1</td>\n",
       "    </tr>\n",
       "    <tr>\n",
       "      <th>15</th>\n",
       "      <td>../input/train/5474ab5628a0875c5473b7b3239dc0a...</td>\n",
       "      <td>5474ab5628a0875c5473b7b3239dc0a94efcf3ea</td>\n",
       "      <td>1</td>\n",
       "    </tr>\n",
       "  </tbody>\n",
       "</table>\n",
       "</div>"
      ],
      "text/plain": [
       "                                                 path  ...  label\n",
       "5   ../input/train/156f6a50526bdfdfae44a804c6fabce...  ...      1\n",
       "7   ../input/train/b2b1c081319ac56e011bfe368fb3033...  ...      1\n",
       "8   ../input/train/f2f7753410bd17f63f1fb6570e2614d...  ...      1\n",
       "13  ../input/train/21133e327d174c4f92d1ff9eaa905de...  ...      1\n",
       "15  ../input/train/5474ab5628a0875c5473b7b3239dc0a...  ...      1\n",
       "\n",
       "[5 rows x 3 columns]"
      ]
     },
     "execution_count": 7,
     "metadata": {},
     "output_type": "execute_result"
    }
   ],
   "source": [
    "df = data\n",
    "df_0 = df[df.label==0]\n",
    "df_1 = df[df.label==1]\n",
    "df_1.head()"
   ]
  },
  {
   "cell_type": "code",
   "execution_count": 8,
   "metadata": {
    "_uuid": "5f27ba1a5a55190fa5f80d01253a4eb8db7c36ee"
   },
   "outputs": [
    {
     "name": "stdout",
     "output_type": "stream",
     "text": [
      "(89117, 3)\n"
     ]
    },
    {
     "data": {
      "text/plain": [
       "(130908, 3)"
      ]
     },
     "execution_count": 8,
     "metadata": {},
     "output_type": "execute_result"
    }
   ],
   "source": [
    "print(df_1.shape)\n",
    "df_0.shape"
   ]
  },
  {
   "cell_type": "code",
   "execution_count": 9,
   "metadata": {
    "_uuid": "c8d6ac2cf4da02d949ad6a185c169507e5085e8e"
   },
   "outputs": [],
   "source": [
    "categories = [0,1]\n",
    "for category in categories:\n",
    "    os.mkdir(os.path.join(training_dir,str(category))) #../training_dir/0 or 1\n",
    "    os.mkdir(os.path.join(validation_dir,str(category)))\n",
    "    \n",
    " # CREATING TRAINING DIRECTORY            \n",
    "for category in categories:\n",
    "    cdir= os.path.join(training_dir,str(category)) #creates '../1 or 0'\n",
    "    for sample_count, path in enumerate(df[df.label ==category].path):\n",
    "        id = path.split('/')[3] #generate destination id_name\n",
    "        src = path\n",
    "        dst = os.path.join(cdir,id) #destination\n",
    "        shutil.copyfile(src,dst)\n",
    "        if sample_count==70000: break\n",
    "        \n"
   ]
  },
  {
   "cell_type": "code",
   "execution_count": 10,
   "metadata": {
    "_uuid": "933c7503ca8c8e2be31835b4e205d31e5a47a6d3"
   },
   "outputs": [],
   "source": [
    "#CREATING VALIDATION DIRECTORY\n",
    "for category in categories:\n",
    "    cdir= os.path.join(validation_dir,str(category)) #creates '../1 or 0'\n",
    "    for sample_count, path in enumerate(df[df.label ==category].path):\n",
    "        if sample_count>70000:\n",
    "            id = path.split('/')[3] #generate destination id_name\n",
    "            src = path\n",
    "            dst = os.path.join(cdir,id) #destination\n",
    "            shutil.copyfile(src,dst)\n",
    "            if sample_count==89000: break\n",
    "        else: continue"
   ]
  },
  {
   "cell_type": "code",
   "execution_count": 11,
   "metadata": {
    "_uuid": "e6c43b54f60d4e74ac8bb2e2ebb7ca23314a08ac"
   },
   "outputs": [
    {
     "data": {
      "text/plain": [
       "19000"
      ]
     },
     "execution_count": 11,
     "metadata": {},
     "output_type": "execute_result"
    }
   ],
   "source": [
    "len(os.listdir(os.path.join(validation_dir,'1')))"
   ]
  },
  {
   "cell_type": "code",
   "execution_count": 12,
   "metadata": {
    "_uuid": "a22c9725c70bd823f7a2037a34b6d49796aa317a"
   },
   "outputs": [
    {
     "data": {
      "text/plain": [
       "['1', '0']"
      ]
     },
     "execution_count": 12,
     "metadata": {},
     "output_type": "execute_result"
    }
   ],
   "source": [
    "os.listdir(validation_dir)"
   ]
  },
  {
   "cell_type": "code",
   "execution_count": 13,
   "metadata": {
    "_uuid": "258a64ad721638f53211dbd2f4ec42586344ab12"
   },
   "outputs": [],
   "source": [
    "data_gen = ImageDataGenerator(rotation_range=40,\n",
    "                          rescale=1./255, width_shift_range=0.2, \n",
    "                              height_shift_range=0.2, \n",
    "                             shear_range=0.2,\n",
    "                             zoom_range=0.2, horizontal_flip=True,\n",
    "                             fill_mode='nearest')"
   ]
  },
  {
   "cell_type": "code",
   "execution_count": 14,
   "metadata": {
    "_uuid": "c19080c353557c4624c2d8e283ab26ea5030e6da"
   },
   "outputs": [
    {
     "name": "stdout",
     "output_type": "stream",
     "text": [
      "Found 140002 images belonging to 2 classes.\n",
      "Found 38000 images belonging to 2 classes.\n",
      "Found 38000 images belonging to 2 classes.\n"
     ]
    }
   ],
   "source": [
    "batch_size=20\n",
    "train_generator = data_gen.flow_from_directory(training_dir, \n",
    "                                               target_size=(96,96),\n",
    "                                               class_mode='binary',\n",
    "                                               batch_size=batch_size)\n",
    "test_gen = ImageDataGenerator(rescale=1./255)\n",
    "\n",
    "validation_generator_shuffled=test_gen.flow_from_directory(validation_dir,\n",
    "                                                 target_size=(96,96),\n",
    "                                                 class_mode='binary',\n",
    "                                                 batch_size=batch_size)\n",
    "\n",
    "validation_generator=test_gen.flow_from_directory(validation_dir,\n",
    "                                                 target_size=(96,96),\n",
    "                                                 class_mode='binary',\n",
    "                                                 batch_size=batch_size,\n",
    "                                                 shuffle=False)\n",
    "\n"
   ]
  },
  {
   "cell_type": "code",
   "execution_count": 15,
   "metadata": {
    "_uuid": "ba5474405876ac8ee4bca2694bb83628577c9523"
   },
   "outputs": [],
   "source": [
    "pool_size= (2,2)\n",
    "\n",
    "model = Sequential()\n",
    "model.add(layers.Conv2D(32,3,input_shape=(96,96,3), activation='relu'))\n",
    "model.add(layers.Conv2D(32,3,activation='relu'))\n",
    "model.add(layers.Conv2D(32,3,activation='relu'))\n",
    "model.add(layers.BatchNormalization())\n",
    "model.add(layers.MaxPool2D(pool_size))\n",
    "# model.add(Dropout(0.3))\n",
    "\n",
    "model.add(layers.Conv2D(64,3,activation='relu'))\n",
    "model.add(layers.Conv2D(64,3,activation='relu'))\n",
    "model.add(layers.Conv2D(64,3,activation='relu'))\n",
    "model.add(layers.BatchNormalization())\n",
    "model.add(layers.MaxPool2D(pool_size))\n",
    "# model.add(Dropout(0.3))\n",
    "\n",
    "model.add(layers.Conv2D(128,3,activation='relu'))\n",
    "model.add(layers.Conv2D(128,3,activation='relu'))\n",
    "model.add(layers.Conv2D(128,3,activation='relu'))\n",
    "model.add(layers.BatchNormalization())\n",
    "model.add(layers.MaxPooling2D(pool_size))\n",
    "# model.add(Dropout(0.3))\n",
    "\n",
    "model.add(layers.Conv2D(256,3,activation='relu', padding='same'))\n",
    "model.add(layers.Conv2D(256,3,activation='relu', padding='same'))\n",
    "model.add(layers.Conv2D(256,3,activation='relu', padding='same'))\n",
    "model.add(layers.BatchNormalization())\n",
    "model.add(layers.MaxPooling2D(pool_size))\n",
    "# model.add(Dropout(0.3))\n",
    "\n",
    "model.add(layers.Flatten())\n",
    "# model.add(layers.Dropout(0.5))\n",
    "model.add(layers.Dense(1, activation='sigmoid'))\n"
   ]
  },
  {
   "cell_type": "code",
   "execution_count": 16,
   "metadata": {
    "_uuid": "31cb1014695f847a4ee47b14a8a4a0b72e0d30ca"
   },
   "outputs": [
    {
     "name": "stdout",
     "output_type": "stream",
     "text": [
      "_________________________________________________________________\n",
      "Layer (type)                 Output Shape              Param #   \n",
      "=================================================================\n",
      "conv2d_1 (Conv2D)            (None, 94, 94, 32)        896       \n",
      "_________________________________________________________________\n",
      "conv2d_2 (Conv2D)            (None, 92, 92, 32)        9248      \n",
      "_________________________________________________________________\n",
      "conv2d_3 (Conv2D)            (None, 90, 90, 32)        9248      \n",
      "_________________________________________________________________\n",
      "batch_normalization_1 (Batch (None, 90, 90, 32)        128       \n",
      "_________________________________________________________________\n",
      "max_pooling2d_1 (MaxPooling2 (None, 45, 45, 32)        0         \n",
      "_________________________________________________________________\n",
      "conv2d_4 (Conv2D)            (None, 43, 43, 64)        18496     \n",
      "_________________________________________________________________\n",
      "conv2d_5 (Conv2D)            (None, 41, 41, 64)        36928     \n",
      "_________________________________________________________________\n",
      "conv2d_6 (Conv2D)            (None, 39, 39, 64)        36928     \n",
      "_________________________________________________________________\n",
      "batch_normalization_2 (Batch (None, 39, 39, 64)        256       \n",
      "_________________________________________________________________\n",
      "max_pooling2d_2 (MaxPooling2 (None, 19, 19, 64)        0         \n",
      "_________________________________________________________________\n",
      "conv2d_7 (Conv2D)            (None, 17, 17, 128)       73856     \n",
      "_________________________________________________________________\n",
      "conv2d_8 (Conv2D)            (None, 15, 15, 128)       147584    \n",
      "_________________________________________________________________\n",
      "conv2d_9 (Conv2D)            (None, 13, 13, 128)       147584    \n",
      "_________________________________________________________________\n",
      "batch_normalization_3 (Batch (None, 13, 13, 128)       512       \n",
      "_________________________________________________________________\n",
      "max_pooling2d_3 (MaxPooling2 (None, 6, 6, 128)         0         \n",
      "_________________________________________________________________\n",
      "conv2d_10 (Conv2D)           (None, 6, 6, 256)         295168    \n",
      "_________________________________________________________________\n",
      "conv2d_11 (Conv2D)           (None, 6, 6, 256)         590080    \n",
      "_________________________________________________________________\n",
      "conv2d_12 (Conv2D)           (None, 6, 6, 256)         590080    \n",
      "_________________________________________________________________\n",
      "batch_normalization_4 (Batch (None, 6, 6, 256)         1024      \n",
      "_________________________________________________________________\n",
      "max_pooling2d_4 (MaxPooling2 (None, 3, 3, 256)         0         \n",
      "_________________________________________________________________\n",
      "flatten_1 (Flatten)          (None, 2304)              0         \n",
      "_________________________________________________________________\n",
      "dense_1 (Dense)              (None, 1)                 2305      \n",
      "=================================================================\n",
      "Total params: 1,960,321\n",
      "Trainable params: 1,959,361\n",
      "Non-trainable params: 960\n",
      "_________________________________________________________________\n"
     ]
    }
   ],
   "source": [
    "model.compile(optimizer=optimizers.Nadam(), loss='binary_crossentropy', metrics=['accuracy'])\n",
    "model.summary()"
   ]
  },
  {
   "cell_type": "code",
   "execution_count": 17,
   "metadata": {
    "_uuid": "eabf15e53fecd8358476c0479e60cc2eb8e11fbd"
   },
   "outputs": [],
   "source": []
  },
  {
   "cell_type": "code",
   "execution_count": 17,
   "metadata": {
    "_uuid": "b57063ce33bad7a4018749e78379086bafa95b15",
    "scrolled": true
   },
   "outputs": [
    {
     "name": "stdout",
     "output_type": "stream",
     "text": [
      "Epoch 1/20\n",
      "6408/7000 [==========================>...] - ETA: 1:00 - loss: 0.4778 - acc: 0.7817"
     ]
    }
   ],
   "source": [
    "train_samples = 140000\n",
    "checkpoint_name= '../working/model.h5'\n",
    "checkpoint = ModelCheckpoint(checkpoint_name, save_best_only=True)\n",
    "stop = EarlyStopping(patience=10, verbose=1)\n",
    "LrReduce = ReduceLROnPlateau(verbose=1, patience=4)\n",
    "model.fit_generator(train_generator, \n",
    "                    steps_per_epoch=train_samples//batch_size,\n",
    "                   validation_data=validation_generator_shuffled,\n",
    "                   epochs=20,\n",
    "                   callbacks=[checkpoint,stop, LrReduce])"
   ]
  },
  {
   "cell_type": "code",
   "execution_count": 18,
   "metadata": {
    "_uuid": "175cc619b7d862c83f85e131fb1f222ccab20276"
   },
   "outputs": [],
   "source": [
    "history = model.history.history"
   ]
  },
  {
   "cell_type": "code",
   "execution_count": 19,
   "metadata": {
    "_uuid": "06c9dc2e7ad93b4ad4e3aa672d74eea6435f156b"
   },
   "outputs": [
    {
     "data": {
      "text/plain": [
       "<matplotlib.legend.Legend at 0x7fa0fefd0f28>"
      ]
     },
     "execution_count": 19,
     "metadata": {},
     "output_type": "execute_result"
    },
    {
     "data": {
      "image/png": "[encoded data removed]",
      "text/plain": [
       "<Figure size 432x288 with 1 Axes>"
      ]
     },
     "metadata": {},
     "output_type": "display_data"
    }
   ],
   "source": [
    "plt.plot(model.history.epoch, history['acc'],label='training_acc')\n",
    "plt.plot(model.history.epoch, history['val_acc'],c='green', label='Validation Accuracy')\n",
    "plt.xlabel('Epochs')\n",
    "plt.legend()\n"
   ]
  },
  {
   "cell_type": "code",
   "execution_count": 20,
   "metadata": {
    "_uuid": "fc7b69ce56cf6525906accbb562ab0999fe458c3"
   },
   "outputs": [
    {
     "data": {
      "text/plain": [
       "<matplotlib.legend.Legend at 0x7fa119a5d518>"
      ]
     },
     "execution_count": 20,
     "metadata": {},
     "output_type": "execute_result"
    },
    {
     "data": {
      "image/png": "[encoded data removed]",
      "text/plain": [
       "<Figure size 432x288 with 1 Axes>"
      ]
     },
     "metadata": {},
     "output_type": "display_data"
    }
   ],
   "source": [
    "plt.plot(model.history.epoch, history['loss'],label='training_loss')\n",
    "plt.plot(model.history.epoch, history['val_loss'],c='green', label='Validation Loss')\n",
    "plt.xlabel('Epochs')\n",
    "plt.legend()"
   ]
  },
  {
   "cell_type": "code",
   "execution_count": 21,
   "metadata": {
    "_uuid": "565988f20dbbfcaad256e18fa3543ea68623e013"
   },
   "outputs": [
    {
     "data": {
      "text/plain": [
       "['__notebook__.ipynb', '__output__.json', 'model.h5']"
      ]
     },
     "execution_count": 21,
     "metadata": {},
     "output_type": "execute_result"
    }
   ],
   "source": [
    "os.listdir('../working')"
   ]
  },
  {
   "cell_type": "code",
   "execution_count": 22,
   "metadata": {
    "_uuid": "29f670010f7b015c3a0976a28c4fe2c87eb41f87"
   },
   "outputs": [],
   "source": [
    "from keras.models import load_model\n",
    "predictor = load_model(checkpoint_name)"
   ]
  },
  {
   "cell_type": "code",
   "execution_count": 23,
   "metadata": {
    "_uuid": "cd050dce6347b3f18beee51fc8c438899cb20fd6"
   },
   "outputs": [
    {
     "data": {
      "text/plain": [
       "['0/000020de2aa6193f4c160e398a8edea95b1da598.tif',\n",
       " '0/0000f8a4da4c286eee5cf1b0d2ab82f979989f7b.tif',\n",
       " '0/00011545a495817817c6943583b294c900a137b8.tif',\n",
       " '0/00030ae10b490d6f1b114bd7ea7a222889e61baa.tif',\n",
       " '0/0003bc63342dd32164456c537a14d7906e18eb69.tif']"
      ]
     },
     "execution_count": 23,
     "metadata": {},
     "output_type": "execute_result"
    }
   ],
   "source": [
    "validation_generator.filenames[:5]"
   ]
  },
  {
   "cell_type": "code",
   "execution_count": 24,
   "metadata": {
    "_uuid": "eeca51b69b23e7a3588ce4dc2c8f09541ddb69da"
   },
   "outputs": [
    {
     "data": {
      "text/html": [
       "<div>\n",
       "<style scoped>\n",
       "    .dataframe tbody tr th:only-of-type {\n",
       "        vertical-align: middle;\n",
       "    }\n",
       "\n",
       "    .dataframe tbody tr th {\n",
       "        vertical-align: top;\n",
       "    }\n",
       "\n",
       "    .dataframe thead th {\n",
       "        text-align: right;\n",
       "    }\n",
       "</style>\n",
       "<table border=\"1\" class=\"dataframe\">\n",
       "  <thead>\n",
       "    <tr style=\"text-align: right;\">\n",
       "      <th></th>\n",
       "      <th>path</th>\n",
       "      <th>id</th>\n",
       "    </tr>\n",
       "  </thead>\n",
       "  <tbody>\n",
       "    <tr>\n",
       "      <th>0</th>\n",
       "      <td>../input/test/0eb051700fb6b1bf96188f36c8e48895...</td>\n",
       "      <td>0eb051700fb6b1bf96188f36c8e4889598c6a157.tif</td>\n",
       "    </tr>\n",
       "    <tr>\n",
       "      <th>1</th>\n",
       "      <td>../input/test/c99d6bc4cee9df4c93a0c3f4138664db...</td>\n",
       "      <td>c99d6bc4cee9df4c93a0c3f4138664db59e1e6ef.tif</td>\n",
       "    </tr>\n",
       "    <tr>\n",
       "      <th>2</th>\n",
       "      <td>../input/test/2859428095a9d1e6aba4bc135c69b596...</td>\n",
       "      <td>2859428095a9d1e6aba4bc135c69b59693b6d02a.tif</td>\n",
       "    </tr>\n",
       "    <tr>\n",
       "      <th>3</th>\n",
       "      <td>../input/test/13141967dff006e2e3f65282a02d3faf...</td>\n",
       "      <td>13141967dff006e2e3f65282a02d3faf46ec038f.tif</td>\n",
       "    </tr>\n",
       "    <tr>\n",
       "      <th>4</th>\n",
       "      <td>../input/test/ad15cf4e12c953fd5822eec528c55a54...</td>\n",
       "      <td>ad15cf4e12c953fd5822eec528c55a54fccaeae8.tif</td>\n",
       "    </tr>\n",
       "  </tbody>\n",
       "</table>\n",
       "</div>"
      ],
      "text/plain": [
       "                                                path                                            id\n",
       "0  ../input/test/0eb051700fb6b1bf96188f36c8e48895...  0eb051700fb6b1bf96188f36c8e4889598c6a157.tif\n",
       "1  ../input/test/c99d6bc4cee9df4c93a0c3f4138664db...  c99d6bc4cee9df4c93a0c3f4138664db59e1e6ef.tif\n",
       "2  ../input/test/2859428095a9d1e6aba4bc135c69b596...  2859428095a9d1e6aba4bc135c69b59693b6d02a.tif\n",
       "3  ../input/test/13141967dff006e2e3f65282a02d3faf...  13141967dff006e2e3f65282a02d3faf46ec038f.tif\n",
       "4  ../input/test/ad15cf4e12c953fd5822eec528c55a54...  ad15cf4e12c953fd5822eec528c55a54fccaeae8.tif"
      ]
     },
     "execution_count": 24,
     "metadata": {},
     "output_type": "execute_result"
    }
   ],
   "source": [
    "test_dir = '../input/test/'\n",
    "df_test = pd.DataFrame({'path': glob(os.path.join(test_dir,'*.tif'))                    \n",
    "                    })\n",
    "df_test['id'] = df_test.path.apply(lambda x: str(x).split('/')[3].strip())\n",
    "# df_test.drop('path', axis=1, inplace=True)\n",
    "df_test.head()\n"
   ]
  },
  {
   "cell_type": "code",
   "execution_count": 25,
   "metadata": {
    "_uuid": "da1f174ee51930ec6775a6b829aca4631ee7c733"
   },
   "outputs": [
    {
     "name": "stdout",
     "output_type": "stream",
     "text": [
      "Found 57458 images.\n"
     ]
    }
   ],
   "source": [
    "test_batch_size=2\n",
    "test_generator = test_gen.flow_from_dataframe(df_test,directory='../input/test/',x_col='id',\n",
    "                                              target_size=(96,96),class_mode=None,\n",
    "                                             shuffle=False,\n",
    "                                             batch_size=test_batch_size)"
   ]
  },
  {
   "cell_type": "code",
   "execution_count": 26,
   "metadata": {
    "_uuid": "594bd9ab86d040a3ba9306556559b9ddcffd7ecd"
   },
   "outputs": [
    {
     "data": {
      "text/html": [
       "<div>\n",
       "<style scoped>\n",
       "    .dataframe tbody tr th:only-of-type {\n",
       "        vertical-align: middle;\n",
       "    }\n",
       "\n",
       "    .dataframe tbody tr th {\n",
       "        vertical-align: top;\n",
       "    }\n",
       "\n",
       "    .dataframe thead th {\n",
       "        text-align: right;\n",
       "    }\n",
       "</style>\n",
       "<table border=\"1\" class=\"dataframe\">\n",
       "  <thead>\n",
       "    <tr style=\"text-align: right;\">\n",
       "      <th></th>\n",
       "      <th>id</th>\n",
       "    </tr>\n",
       "  </thead>\n",
       "  <tbody>\n",
       "    <tr>\n",
       "      <th>0</th>\n",
       "      <td>00006537328c33e284c973d7b39d340809f7271b.tif</td>\n",
       "    </tr>\n",
       "    <tr>\n",
       "      <th>1</th>\n",
       "      <td>0000ec92553fda4ce39889f9226ace43cae3364e.tif</td>\n",
       "    </tr>\n",
       "    <tr>\n",
       "      <th>2</th>\n",
       "      <td>00024a6dee61f12f7856b0fc6be20bc7a48ba3d2.tif</td>\n",
       "    </tr>\n",
       "    <tr>\n",
       "      <th>3</th>\n",
       "      <td>000253dfaa0be9d0d100283b22284ab2f6b643f6.tif</td>\n",
       "    </tr>\n",
       "    <tr>\n",
       "      <th>4</th>\n",
       "      <td>000270442cc15af719583a8172c87cd2bd9c7746.tif</td>\n",
       "    </tr>\n",
       "  </tbody>\n",
       "</table>\n",
       "</div>"
      ],
      "text/plain": [
       "                                             id\n",
       "0  00006537328c33e284c973d7b39d340809f7271b.tif\n",
       "1  0000ec92553fda4ce39889f9226ace43cae3364e.tif\n",
       "2  00024a6dee61f12f7856b0fc6be20bc7a48ba3d2.tif\n",
       "3  000253dfaa0be9d0d100283b22284ab2f6b643f6.tif\n",
       "4  000270442cc15af719583a8172c87cd2bd9c7746.tif"
      ]
     },
     "execution_count": 26,
     "metadata": {},
     "output_type": "execute_result"
    }
   ],
   "source": [
    "df_test.drop('path', inplace=True, axis=1)\n",
    "df_test.id = test_generator.filenames\n",
    "df_test.head()"
   ]
  },
  {
   "cell_type": "code",
   "execution_count": 27,
   "metadata": {
    "_uuid": "4950f0a42dcff1d99808ff9d3df2c1eff968bc40"
   },
   "outputs": [
    {
     "data": {
      "image/png": "[encoded data removed]",
      "text/plain": [
       "<Figure size 432x288 with 1 Axes>"
      ]
     },
     "metadata": {},
     "output_type": "display_data"
    }
   ],
   "source": [
    "for bb in test_generator:\n",
    "    plt.imshow(bb[0])\n",
    "    break"
   ]
  },
  {
   "cell_type": "code",
   "execution_count": 28,
   "metadata": {
    "_uuid": "cc13226c7ee111c4f5d6653383e9efef5ddbd8d2"
   },
   "outputs": [
    {
     "name": "stdout",
     "output_type": "stream",
     "text": [
      "28729/28729 [==============================] - 147s 5ms/step\n"
     ]
    }
   ],
   "source": [
    "no_of_samples = 57458\n",
    "predictions = predictor.predict_generator(test_generator,\n",
    "                                         steps=no_of_samples//test_batch_size, verbose=1)"
   ]
  },
  {
   "cell_type": "code",
   "execution_count": 29,
   "metadata": {
    "_uuid": "628d1b45475fba834518a3d32617906463df8f47"
   },
   "outputs": [
    {
     "data": {
      "text/html": [
       "<div>\n",
       "<style scoped>\n",
       "    .dataframe tbody tr th:only-of-type {\n",
       "        vertical-align: middle;\n",
       "    }\n",
       "\n",
       "    .dataframe tbody tr th {\n",
       "        vertical-align: top;\n",
       "    }\n",
       "\n",
       "    .dataframe thead th {\n",
       "        text-align: right;\n",
       "    }\n",
       "</style>\n",
       "<table border=\"1\" class=\"dataframe\">\n",
       "  <thead>\n",
       "    <tr style=\"text-align: right;\">\n",
       "      <th></th>\n",
       "      <th>id</th>\n",
       "    </tr>\n",
       "  </thead>\n",
       "  <tbody>\n",
       "    <tr>\n",
       "      <th>0</th>\n",
       "      <td>00006537328c33e284c973d7b39d340809f7271b.tif</td>\n",
       "    </tr>\n",
       "    <tr>\n",
       "      <th>1</th>\n",
       "      <td>0000ec92553fda4ce39889f9226ace43cae3364e.tif</td>\n",
       "    </tr>\n",
       "    <tr>\n",
       "      <th>2</th>\n",
       "      <td>00024a6dee61f12f7856b0fc6be20bc7a48ba3d2.tif</td>\n",
       "    </tr>\n",
       "    <tr>\n",
       "      <th>3</th>\n",
       "      <td>000253dfaa0be9d0d100283b22284ab2f6b643f6.tif</td>\n",
       "    </tr>\n",
       "    <tr>\n",
       "      <th>4</th>\n",
       "      <td>000270442cc15af719583a8172c87cd2bd9c7746.tif</td>\n",
       "    </tr>\n",
       "  </tbody>\n",
       "</table>\n",
       "</div>"
      ],
      "text/plain": [
       "                                             id\n",
       "0  00006537328c33e284c973d7b39d340809f7271b.tif\n",
       "1  0000ec92553fda4ce39889f9226ace43cae3364e.tif\n",
       "2  00024a6dee61f12f7856b0fc6be20bc7a48ba3d2.tif\n",
       "3  000253dfaa0be9d0d100283b22284ab2f6b643f6.tif\n",
       "4  000270442cc15af719583a8172c87cd2bd9c7746.tif"
      ]
     },
     "execution_count": 29,
     "metadata": {},
     "output_type": "execute_result"
    }
   ],
   "source": [
    "df_test.head()"
   ]
  },
  {
   "cell_type": "code",
   "execution_count": 30,
   "metadata": {
    "_uuid": "271f2fec0b671969681df610ad1cd6739cc8f659"
   },
   "outputs": [
    {
     "data": {
      "text/plain": [
       "array([[0.9990121 ],\n",
       "       [0.8035337 ],\n",
       "       [0.8656497 ],\n",
       "       ...,\n",
       "       [0.00175404],\n",
       "       [0.54328007],\n",
       "       [0.09879   ]], dtype=float32)"
      ]
     },
     "execution_count": 30,
     "metadata": {},
     "output_type": "execute_result"
    }
   ],
   "source": [
    "predictions"
   ]
  },
  {
   "cell_type": "code",
   "execution_count": 31,
   "metadata": {
    "_uuid": "4bb6c8675e33a8a46b1ce55ccbb0dfd85e2ae31f"
   },
   "outputs": [
    {
     "data": {
      "text/html": [
       "<div>\n",
       "<style scoped>\n",
       "    .dataframe tbody tr th:only-of-type {\n",
       "        vertical-align: middle;\n",
       "    }\n",
       "\n",
       "    .dataframe tbody tr th {\n",
       "        vertical-align: top;\n",
       "    }\n",
       "\n",
       "    .dataframe thead th {\n",
       "        text-align: right;\n",
       "    }\n",
       "</style>\n",
       "<table border=\"1\" class=\"dataframe\">\n",
       "  <thead>\n",
       "    <tr style=\"text-align: right;\">\n",
       "      <th></th>\n",
       "      <th>label</th>\n",
       "    </tr>\n",
       "  </thead>\n",
       "  <tbody>\n",
       "    <tr>\n",
       "      <th>0</th>\n",
       "      <td>0.999012</td>\n",
       "    </tr>\n",
       "    <tr>\n",
       "      <th>1</th>\n",
       "      <td>0.803534</td>\n",
       "    </tr>\n",
       "    <tr>\n",
       "      <th>2</th>\n",
       "      <td>0.865650</td>\n",
       "    </tr>\n",
       "    <tr>\n",
       "      <th>3</th>\n",
       "      <td>0.045618</td>\n",
       "    </tr>\n",
       "    <tr>\n",
       "      <th>4</th>\n",
       "      <td>0.013802</td>\n",
       "    </tr>\n",
       "  </tbody>\n",
       "</table>\n",
       "</div>"
      ],
      "text/plain": [
       "      label\n",
       "0  0.999012\n",
       "1  0.803534\n",
       "2  0.865650\n",
       "3  0.045618\n",
       "4  0.013802"
      ]
     },
     "execution_count": 31,
     "metadata": {},
     "output_type": "execute_result"
    }
   ],
   "source": [
    "results = pd.DataFrame({'label': predictions.reshape(-1,)}, index=range(0,no_of_samples))\n",
    "results.head()"
   ]
  },
  {
   "cell_type": "code",
   "execution_count": 32,
   "metadata": {
    "_uuid": "80a0b21741ed82ce81fb9dcfe2d693080353ceeb"
   },
   "outputs": [
    {
     "data": {
      "text/plain": [
       "0    38824\n",
       "1    18634\n",
       "Name: label, dtype: int64"
      ]
     },
     "execution_count": 32,
     "metadata": {},
     "output_type": "execute_result"
    }
   ],
   "source": [
    "# def ro(x):\n",
    "#     if x>=0.5: x=1\n",
    "#     else: x=0\n",
    "#     return x\n",
    "\n",
    "dd = results\n",
    "dd.label = dd.label.apply(round)\n",
    "dd.label.value_counts()"
   ]
  },
  {
   "cell_type": "code",
   "execution_count": 33,
   "metadata": {
    "_uuid": "c381748170751f74a04045c0a814902144669e13"
   },
   "outputs": [
    {
     "data": {
      "text/html": [
       "<div>\n",
       "<style scoped>\n",
       "    .dataframe tbody tr th:only-of-type {\n",
       "        vertical-align: middle;\n",
       "    }\n",
       "\n",
       "    .dataframe tbody tr th {\n",
       "        vertical-align: top;\n",
       "    }\n",
       "\n",
       "    .dataframe thead th {\n",
       "        text-align: right;\n",
       "    }\n",
       "</style>\n",
       "<table border=\"1\" class=\"dataframe\">\n",
       "  <thead>\n",
       "    <tr style=\"text-align: right;\">\n",
       "      <th></th>\n",
       "      <th>label</th>\n",
       "    </tr>\n",
       "  </thead>\n",
       "  <tbody>\n",
       "    <tr>\n",
       "      <th>0</th>\n",
       "      <td>0.999012</td>\n",
       "    </tr>\n",
       "    <tr>\n",
       "      <th>1</th>\n",
       "      <td>0.803534</td>\n",
       "    </tr>\n",
       "    <tr>\n",
       "      <th>2</th>\n",
       "      <td>0.865650</td>\n",
       "    </tr>\n",
       "    <tr>\n",
       "      <th>3</th>\n",
       "      <td>0.045618</td>\n",
       "    </tr>\n",
       "    <tr>\n",
       "      <th>4</th>\n",
       "      <td>0.013802</td>\n",
       "    </tr>\n",
       "  </tbody>\n",
       "</table>\n",
       "</div>"
      ],
      "text/plain": [
       "      label\n",
       "0  0.999012\n",
       "1  0.803534\n",
       "2  0.865650\n",
       "3  0.045618\n",
       "4  0.013802"
      ]
     },
     "execution_count": 33,
     "metadata": {},
     "output_type": "execute_result"
    }
   ],
   "source": [
    "results = pd.DataFrame({'label': predictions.reshape(-1,)}, index=range(0,no_of_samples))\n",
    "results.head()"
   ]
  },
  {
   "cell_type": "code",
   "execution_count": 34,
   "metadata": {
    "_uuid": "7736458cd72e2b03c983cd4862d586ac92acd54d"
   },
   "outputs": [
    {
     "data": {
      "text/html": [
       "<div>\n",
       "<style scoped>\n",
       "    .dataframe tbody tr th:only-of-type {\n",
       "        vertical-align: middle;\n",
       "    }\n",
       "\n",
       "    .dataframe tbody tr th {\n",
       "        vertical-align: top;\n",
       "    }\n",
       "\n",
       "    .dataframe thead th {\n",
       "        text-align: right;\n",
       "    }\n",
       "</style>\n",
       "<table border=\"1\" class=\"dataframe\">\n",
       "  <thead>\n",
       "    <tr style=\"text-align: right;\">\n",
       "      <th></th>\n",
       "      <th>id</th>\n",
       "    </tr>\n",
       "  </thead>\n",
       "  <tbody>\n",
       "    <tr>\n",
       "      <th>0</th>\n",
       "      <td>00006537328c33e284c973d7b39d340809f7271b</td>\n",
       "    </tr>\n",
       "    <tr>\n",
       "      <th>1</th>\n",
       "      <td>0000ec92553fda4ce39889f9226ace43cae3364e</td>\n",
       "    </tr>\n",
       "    <tr>\n",
       "      <th>2</th>\n",
       "      <td>00024a6dee61f12f7856b0fc6be20bc7a48ba3d2</td>\n",
       "    </tr>\n",
       "    <tr>\n",
       "      <th>3</th>\n",
       "      <td>000253dfaa0be9d0d100283b22284ab2f6b643f6</td>\n",
       "    </tr>\n",
       "    <tr>\n",
       "      <th>4</th>\n",
       "      <td>000270442cc15af719583a8172c87cd2bd9c7746</td>\n",
       "    </tr>\n",
       "  </tbody>\n",
       "</table>\n",
       "</div>"
      ],
      "text/plain": [
       "                                         id\n",
       "0  00006537328c33e284c973d7b39d340809f7271b\n",
       "1  0000ec92553fda4ce39889f9226ace43cae3364e\n",
       "2  00024a6dee61f12f7856b0fc6be20bc7a48ba3d2\n",
       "3  000253dfaa0be9d0d100283b22284ab2f6b643f6\n",
       "4  000270442cc15af719583a8172c87cd2bd9c7746"
      ]
     },
     "execution_count": 34,
     "metadata": {},
     "output_type": "execute_result"
    }
   ],
   "source": [
    "# df_test.drop('path', axis=1, inplace=True)\n",
    "df_test.id = df_test.id.apply(lambda x: x.split('.')[0])\n",
    "df_test.head()"
   ]
  },
  {
   "cell_type": "code",
   "execution_count": 35,
   "metadata": {
    "_uuid": "33faa3f7bec2e32bdd8c898e9532089241abfe22"
   },
   "outputs": [
    {
     "data": {
      "text/html": [
       "<div>\n",
       "<style scoped>\n",
       "    .dataframe tbody tr th:only-of-type {\n",
       "        vertical-align: middle;\n",
       "    }\n",
       "\n",
       "    .dataframe tbody tr th {\n",
       "        vertical-align: top;\n",
       "    }\n",
       "\n",
       "    .dataframe thead th {\n",
       "        text-align: right;\n",
       "    }\n",
       "</style>\n",
       "<table border=\"1\" class=\"dataframe\">\n",
       "  <thead>\n",
       "    <tr style=\"text-align: right;\">\n",
       "      <th></th>\n",
       "      <th>id</th>\n",
       "      <th>label</th>\n",
       "    </tr>\n",
       "  </thead>\n",
       "  <tbody>\n",
       "    <tr>\n",
       "      <th>0</th>\n",
       "      <td>00006537328c33e284c973d7b39d340809f7271b</td>\n",
       "      <td>0.999012</td>\n",
       "    </tr>\n",
       "    <tr>\n",
       "      <th>1</th>\n",
       "      <td>0000ec92553fda4ce39889f9226ace43cae3364e</td>\n",
       "      <td>0.803534</td>\n",
       "    </tr>\n",
       "    <tr>\n",
       "      <th>2</th>\n",
       "      <td>00024a6dee61f12f7856b0fc6be20bc7a48ba3d2</td>\n",
       "      <td>0.865650</td>\n",
       "    </tr>\n",
       "    <tr>\n",
       "      <th>3</th>\n",
       "      <td>000253dfaa0be9d0d100283b22284ab2f6b643f6</td>\n",
       "      <td>0.045618</td>\n",
       "    </tr>\n",
       "    <tr>\n",
       "      <th>4</th>\n",
       "      <td>000270442cc15af719583a8172c87cd2bd9c7746</td>\n",
       "      <td>0.013802</td>\n",
       "    </tr>\n",
       "    <tr>\n",
       "      <th>5</th>\n",
       "      <td>000309e669fa3b18fb0ed6a253a2850cce751a95</td>\n",
       "      <td>0.305009</td>\n",
       "    </tr>\n",
       "    <tr>\n",
       "      <th>6</th>\n",
       "      <td>000360e0d8358db520b5c7564ac70c5706a0beb0</td>\n",
       "      <td>0.002411</td>\n",
       "    </tr>\n",
       "    <tr>\n",
       "      <th>7</th>\n",
       "      <td>00040095a4a671280aeb66cb0c9231e6216633b5</td>\n",
       "      <td>0.135766</td>\n",
       "    </tr>\n",
       "    <tr>\n",
       "      <th>8</th>\n",
       "      <td>000698b7df308d75ec9559ef473a588c513a68aa</td>\n",
       "      <td>0.913441</td>\n",
       "    </tr>\n",
       "    <tr>\n",
       "      <th>9</th>\n",
       "      <td>0006e1af5670323331d09880924381d67d79eda0</td>\n",
       "      <td>0.754808</td>\n",
       "    </tr>\n",
       "  </tbody>\n",
       "</table>\n",
       "</div>"
      ],
      "text/plain": [
       "                                         id     label\n",
       "0  00006537328c33e284c973d7b39d340809f7271b  0.999012\n",
       "1  0000ec92553fda4ce39889f9226ace43cae3364e  0.803534\n",
       "2  00024a6dee61f12f7856b0fc6be20bc7a48ba3d2  0.865650\n",
       "3  000253dfaa0be9d0d100283b22284ab2f6b643f6  0.045618\n",
       "4  000270442cc15af719583a8172c87cd2bd9c7746  0.013802\n",
       "5  000309e669fa3b18fb0ed6a253a2850cce751a95  0.305009\n",
       "6  000360e0d8358db520b5c7564ac70c5706a0beb0  0.002411\n",
       "7  00040095a4a671280aeb66cb0c9231e6216633b5  0.135766\n",
       "8  000698b7df308d75ec9559ef473a588c513a68aa  0.913441\n",
       "9  0006e1af5670323331d09880924381d67d79eda0  0.754808"
      ]
     },
     "execution_count": 35,
     "metadata": {},
     "output_type": "execute_result"
    }
   ],
   "source": [
    "submission = pd.concat([df_test,results],axis=1)\n",
    "# submission2 = pd.concat([df_test,dd],axis=1)\n",
    "submission.head(10)"
   ]
  },
  {
   "cell_type": "code",
   "execution_count": 36,
   "metadata": {
    "_uuid": "e2ae7c4a900f8aa4223034af72da058564760537"
   },
   "outputs": [],
   "source": [
    "submission.to_csv('submissions.csv', index=False)\n",
    "# submission2.to_csv('submissionswhole.csv', index=False)"
   ]
  },
  {
   "cell_type": "code",
   "execution_count": 37,
   "metadata": {
    "_uuid": "d490d42b40bac4c4579753693b075941cadaac6e"
   },
   "outputs": [
    {
     "data": {
      "text/html": [
       "<div>\n",
       "<style scoped>\n",
       "    .dataframe tbody tr th:only-of-type {\n",
       "        vertical-align: middle;\n",
       "    }\n",
       "\n",
       "    .dataframe tbody tr th {\n",
       "        vertical-align: top;\n",
       "    }\n",
       "\n",
       "    .dataframe thead th {\n",
       "        text-align: right;\n",
       "    }\n",
       "</style>\n",
       "<table border=\"1\" class=\"dataframe\">\n",
       "  <thead>\n",
       "    <tr style=\"text-align: right;\">\n",
       "      <th></th>\n",
       "      <th>id</th>\n",
       "      <th>label</th>\n",
       "    </tr>\n",
       "  </thead>\n",
       "  <tbody>\n",
       "    <tr>\n",
       "      <th>0</th>\n",
       "      <td>00006537328c33e284c973d7b39d340809f7271b</td>\n",
       "      <td>0.999012</td>\n",
       "    </tr>\n",
       "    <tr>\n",
       "      <th>1</th>\n",
       "      <td>0000ec92553fda4ce39889f9226ace43cae3364e</td>\n",
       "      <td>0.803534</td>\n",
       "    </tr>\n",
       "    <tr>\n",
       "      <th>2</th>\n",
       "      <td>00024a6dee61f12f7856b0fc6be20bc7a48ba3d2</td>\n",
       "      <td>0.865650</td>\n",
       "    </tr>\n",
       "    <tr>\n",
       "      <th>3</th>\n",
       "      <td>000253dfaa0be9d0d100283b22284ab2f6b643f6</td>\n",
       "      <td>0.045618</td>\n",
       "    </tr>\n",
       "    <tr>\n",
       "      <th>4</th>\n",
       "      <td>000270442cc15af719583a8172c87cd2bd9c7746</td>\n",
       "      <td>0.013802</td>\n",
       "    </tr>\n",
       "  </tbody>\n",
       "</table>\n",
       "</div>"
      ],
      "text/plain": [
       "                                         id     label\n",
       "0  00006537328c33e284c973d7b39d340809f7271b  0.999012\n",
       "1  0000ec92553fda4ce39889f9226ace43cae3364e  0.803534\n",
       "2  00024a6dee61f12f7856b0fc6be20bc7a48ba3d2  0.865650\n",
       "3  000253dfaa0be9d0d100283b22284ab2f6b643f6  0.045618\n",
       "4  000270442cc15af719583a8172c87cd2bd9c7746  0.013802"
      ]
     },
     "execution_count": 37,
     "metadata": {},
     "output_type": "execute_result"
    }
   ],
   "source": [
    "pd.read_csv('submissions.csv').head()"
   ]
  },
  {
   "cell_type": "code",
   "execution_count": 38,
   "metadata": {
    "_uuid": "babd5f3ff189843d2af8f5bc34e4a2446a9c8ba7"
   },
   "outputs": [],
   "source": [
    "# def roundup(x):\n",
    "#     if x>=0.5: x = 1\n",
    "#     else: x=0\n",
    "#     return x"
   ]
  },
  {
   "cell_type": "code",
   "execution_count": 39,
   "metadata": {
    "_uuid": "8d2e759a66ebfbd97ab1dc67a64d3054a2534c5b"
   },
   "outputs": [],
   "source": [
    "# results.label.apply(roundup).value_counts()"
   ]
  },
  {
   "cell_type": "code",
   "execution_count": 40,
   "metadata": {
    "_uuid": "c21d7d515efe32ea63d08be40b2d7a0ce6e3cc8d"
   },
   "outputs": [],
   "source": [
    "# val_batch_labels=np.zeros(len(validation_generator.classes))"
   ]
  },
  {
   "cell_type": "code",
   "execution_count": 41,
   "metadata": {
    "_uuid": "3c723c1f73dbe899c1884b63f34ca805ec801791"
   },
   "outputs": [],
   "source": [
    "# i = 0\n",
    "# for b, l in (validation_generator):\n",
    "#     val_batch_labels[i*batch_size:batch_size*(i+1)] = l\n",
    "#     i+=1\n",
    "#     if i==3000:\n",
    "#         break"
   ]
  },
  {
   "cell_type": "code",
   "execution_count": 42,
   "metadata": {
    "_uuid": "d30b033c9091f7032e2fecc60ec5f2391340a7dc"
   },
   "outputs": [],
   "source": [
    "# print('done')\n",
    "# pd.DataFrame(val_batch_labels)[0].value_counts()"
   ]
  },
  {
   "cell_type": "code",
   "execution_count": 43,
   "metadata": {
    "_uuid": "76a7cf621c8bcc9be23e9eccd70c4cde5d3121d8"
   },
   "outputs": [
    {
     "name": "stdout",
     "output_type": "stream",
     "text": [
      "1900/1900 [==============================] - 41s 21ms/step\n"
     ]
    }
   ],
   "source": [
    "\n",
    "from sklearn.metrics import roc_curve,auc, confusion_matrix, classification_report\n",
    "val_pred = predictor.predict_generator(validation_generator,\n",
    "                                      steps=len(validation_generator.classes)//batch_size,\n",
    "                                      verbose=1)"
   ]
  },
  {
   "cell_type": "code",
   "execution_count": 44,
   "metadata": {
    "_uuid": "79d1054765ac258594233ca678cf714400af9da1"
   },
   "outputs": [
    {
     "data": {
      "text/plain": [
       "array([[0.03567059],\n",
       "       [0.01097356],\n",
       "       [0.06024702],\n",
       "       ...,\n",
       "       [0.9762646 ],\n",
       "       [0.93746346],\n",
       "       [0.01184475]], dtype=float32)"
      ]
     },
     "execution_count": 44,
     "metadata": {},
     "output_type": "execute_result"
    }
   ],
   "source": [
    "val_pred"
   ]
  },
  {
   "cell_type": "code",
   "execution_count": 45,
   "metadata": {
    "_uuid": "ab852e45041e3d9222d3ac5e4bdf8499e5987116"
   },
   "outputs": [],
   "source": [
    "false_positive_rate,true_positive_rate,threshold = roc_curve(validation_generator.classes,\n",
    "                                                            val_pred)"
   ]
  },
  {
   "cell_type": "code",
   "execution_count": 46,
   "metadata": {
    "_uuid": "20681d9268a24d3a859600cd1987f7feaedec6c8"
   },
   "outputs": [
    {
     "name": "stdout",
     "output_type": "stream",
     "text": [
      "0.9781468310249307\n",
      "              precision    recall  f1-score   support\n",
      "\n",
      "           0       0.90      0.96      0.93     19000\n",
      "           1       0.95      0.89      0.92     19000\n",
      "\n",
      "   micro avg       0.92      0.92      0.92     38000\n",
      "   macro avg       0.93      0.92      0.92     38000\n",
      "weighted avg       0.93      0.92      0.92     38000\n",
      "\n"
     ]
    }
   ],
   "source": [
    "val_pred_whole = np.where(val_pred>=0.5,1,0)\n",
    "AUC = auc(false_positive_rate,true_positive_rate)\n",
    "print(AUC)\n",
    "print(classification_report(validation_generator.classes,val_pred_whole))"
   ]
  },
  {
   "cell_type": "code",
   "execution_count": 47,
   "metadata": {
    "_uuid": "5873a86aa64dc55f4df9314330798b1ae5853a2c"
   },
   "outputs": [
    {
     "data": {
      "text/plain": [
       "0    20240\n",
       "1    17760\n",
       "Name: label, dtype: int64"
      ]
     },
     "execution_count": 47,
     "metadata": {},
     "output_type": "execute_result"
    }
   ],
   "source": [
    "dg = pd.DataFrame(val_pred_whole, columns=['label'])\n",
    "dg.label.value_counts()"
   ]
  },
  {
   "cell_type": "code",
   "execution_count": 48,
   "metadata": {
    "_uuid": "959252a9684c64880e551ce9e2f8826994226092"
   },
   "outputs": [
    {
     "data": {
      "text/plain": [
       "array([0, 0, 0, ..., 1, 1, 1], dtype=int32)"
      ]
     },
     "execution_count": 48,
     "metadata": {},
     "output_type": "execute_result"
    }
   ],
   "source": [
    "validation_generator.classes"
   ]
  },
  {
   "cell_type": "code",
   "execution_count": 49,
   "metadata": {
    "_uuid": "2cc54c6d87c1866ed4145156812305ecf3d27264"
   },
   "outputs": [],
   "source": [
    "shutil.rmtree(validation_dir)\n"
   ]
  }
 ],
 "metadata": {
  "kernelspec": {
   "display_name": "Python 3",
   "language": "python",
   "name": "python3"
  },
  "language_info": {
   "codemirror_mode": {
    "name": "ipython",
    "version": 3
   },
   "file_extension": ".py",
   "mimetype": "text/x-python",
   "name": "python",
   "nbconvert_exporter": "python",
   "pygments_lexer": "ipython3",
   "version": "3.6.7"
  }
 },
 "nbformat": 4,
 "nbformat_minor": 1
}
